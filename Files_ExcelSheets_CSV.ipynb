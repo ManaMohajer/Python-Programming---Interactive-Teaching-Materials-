{
 "cells": [
  {
   "cell_type": "markdown",
   "id": "69969f41",
   "metadata": {},
   "source": [
    "# Files: Opening, Reading, Writing, Over-writing, Closing\n",
    "\n",
    "We can read and save data given by the user through files, just by using a small program. Furthermore, we can also print the output of our calculations in a file rarther than on the screen! \n",
    "\n",
    "Today we continue with working with files...\n",
    "\n",
    "The first step to access to the data on the file is **opening** the file. We can open the files with different syntaxes.\n",
    "\n",
    "**The first way is using `open()` function with the following syntax:**\n",
    "\n",
    "`open('FILE_NAME',mode)`\n",
    "\n",
    "The first argument should be passed as a **string**. \n",
    "\n",
    "The second argument, `mode`, represents how we want to use/access the **opened file**. Passing the second argument is optional. The default is opening a file for reading. `mode` can be set as:\n",
    "\n",
    "-  `'r'`     only reading the exisiting file from the begining\n",
    "\n",
    "-  `'w'`     over-writing the exisiting file from the begining of the file. If the file does not exist, it gets created firstly and then we write in it\n",
    "\n",
    "-  `'a'`     writing in the exisiting file and adding some data at the end of this exisiting file\n",
    "\n",
    "-  `'r+'`    both reading the file and writing in the exisiting file\n",
    "\n",
    "-  `'w+'`    creating a new file for both reading and writing from the begining \n",
    "\n",
    "-  `'a+'`    creating a new file for both reading and writing data at the end of the file\n",
    "\n",
    "\n",
    "|                                      |   r   |   r+   |  w   |   w+  |  a   |  a+  |\n",
    "|     :--------------------:               |  :--: |  :--:  | :--: | :--:  | :--: | :--: |\n",
    "|              Read?                        |  yes  |   yes  |      |  yes  |      |  yes |\n",
    "|             Write?                        |       |   yes  |  yes |  yes  |  yes |  yes |\n",
    "|             Create?                       |       |        |  yes |  yes  |  yes |  yes |\n",
    "| Cursor at the beginning of the file?      |  yes  |   yes  |  yes |  yes  |      |      |\n",
    "|    Cursor at the end of the file?         |       |        |      |       |  yes |  yes |\n"
   ]
  },
  {
   "cell_type": "code",
   "execution_count": null,
   "id": "3a98186b",
   "metadata": {
    "tags": []
   },
   "outputs": [],
   "source": [
    "open('Week 06 file1','w')"
   ]
  },
  {
   "cell_type": "markdown",
   "id": "2f03a7a6",
   "metadata": {},
   "source": [
    "Check the current directory of your Jupyter nootbook. The file should be created after running the previous cell.\n",
    "\n",
    "Which information does the output give to us?\n",
    "\n",
    "**_io.TextIOWrapper**    :   Our file object is from class (type) of _io.TextIOWrapper<br>\n",
    "\n",
    "The class **_io.TextIOWrapper** provides different **methods** and **attributes** which helps us to read or write data to and from the file. <br>\n",
    "                         \n",
    "**name**                 :   As we defined <br>\n",
    "\n",
    "**mode**                 :   As we defined <br>\n",
    "\n",
    "**encoding = 'UTF-8'**   :   Unicode Transformation Format-8 bits<br>\n",
    "\n",
    "Just to have some idea about encoding...\n",
    "Literally, encoding means treating everything (numbers, characters) with a specific code. In 'UTF-8' the 8-bit values are used for encoding.\n",
    "\n",
    "As an example: \n",
    "\n",
    " \n",
    "|            Character                      |    encoding   |                                  bits    |  \n",
    "|     :--------------------:                |      :--:     |                                  :--:    | \n",
    "|              A                            |     UTF-8     |                                01000001  |     \n",
    "|              A                            |     UTF-16    |                      00000000  01000001  | \n",
    "|              A                            |     UTF-32    |   00000000 00000000  00000000  01000001  |  \n",
    "\n",
    "\n"
   ]
  },
  {
   "cell_type": "code",
   "execution_count": null,
   "id": "3ed7c725",
   "metadata": {
    "tags": []
   },
   "outputs": [],
   "source": [
    "type(open('Week 06 file1','w'))    #Getting the class type of our object"
   ]
  },
  {
   "cell_type": "markdown",
   "id": "571203cf",
   "metadata": {},
   "source": [
    "The output of the `open()` function is a **file-like object** or briefly **file object**. Another equivalent term is **stream**. When the output is **object**, it simply means if you assign the output of your function to a variable, python treats the variable as an object. \n"
   ]
  },
  {
   "cell_type": "code",
   "execution_count": null,
   "id": "c009e770",
   "metadata": {
    "tags": []
   },
   "outputs": [],
   "source": [
    "file1 = open('Week 06 file1','w')"
   ]
  },
  {
   "cell_type": "markdown",
   "id": "a86d4842",
   "metadata": {},
   "source": [
    "`file1` is now a **file object**. "
   ]
  },
  {
   "cell_type": "markdown",
   "id": "77de1cde",
   "metadata": {},
   "source": [
    "In case you do not remember, to know the syntax for performing operations on your **file object** using the  corresponding **attributes** and **methods** you should review what you learned in previous weeks focused on `Class`..."
   ]
  },
  {
   "cell_type": "markdown",
   "id": "0e87b7d1",
   "metadata": {},
   "source": [
    "Now we start applying the same concept **on the file object** by using the same syntax. \n",
    "\n",
    "The **methods** of **_io.TextIOWrapper** class are:\n",
    "\n",
    "`write()`<br>\n",
    "`writelines()`<br>\n",
    "`read()`<br>\n",
    "`readline()`<br>\n",
    "`readlines()`<br>\n",
    "`tell()`<br>\n",
    "`close()`<br>\n",
    "\n",
    "You may look at:\n",
    "https://docs.python.org/3/tutorial/inputoutput.html#methods-of-file-objects"
   ]
  },
  {
   "cell_type": "markdown",
   "id": "879bfee2-3019-4eac-8529-5602c13e7fb9",
   "metadata": {},
   "source": [
    "**Exercise**\n",
    "We will use an **attribute** (being considered as a value) of **_io.TextIOWrapper** class. At the end of the session come back here, and write it here:\n",
    "<br>\n",
    "<br>\n",
    "<br>\n",
    "<br>"
   ]
  },
  {
   "cell_type": "markdown",
   "id": "0f907ec7",
   "metadata": {},
   "source": [
    "Now it is the time to start using the **methods** for **file objects**!"
   ]
  },
  {
   "cell_type": "code",
   "execution_count": null,
   "id": "bffe5c21",
   "metadata": {
    "tags": []
   },
   "outputs": [],
   "source": [
    "file1.writelines('This is the first sentence of the generated file.')"
   ]
  },
  {
   "cell_type": "code",
   "execution_count": null,
   "id": "8ca99503",
   "metadata": {
    "tags": []
   },
   "outputs": [],
   "source": [
    "file1.writelines(['\\nThis is the second sentence of the  generated file,', '\\nand this is the fourth one.'])"
   ]
  },
  {
   "cell_type": "code",
   "execution_count": null,
   "id": "59a98a94",
   "metadata": {
    "tags": []
   },
   "outputs": [],
   "source": [
    "file1.write('\\nThis is my fifth sentence.')"
   ]
  },
  {
   "cell_type": "code",
   "execution_count": null,
   "id": "050f8fbb-a756-4be3-84fe-61f32b6d9cfd",
   "metadata": {
    "tags": []
   },
   "outputs": [],
   "source": [
    "len('\\nThis is my fifth sentence.')"
   ]
  },
  {
   "cell_type": "markdown",
   "id": "eb001efc",
   "metadata": {},
   "source": [
    "Do not expect to see the written text on the screen when you use `write()` or `writelines()` methods! "
   ]
  },
  {
   "cell_type": "code",
   "execution_count": null,
   "id": "dd290a9e-c15a-413d-9719-f375eae56aa8",
   "metadata": {
    "tags": []
   },
   "outputs": [],
   "source": [
    "my_list_1 = ['Finally, done with writing on my file.']\n",
    "my_list_2 = 'Finally, done with writing on my file.'\n",
    "# be careful about the next syntax if you try it with passing my_list_1 to file1.write() function\n",
    "file1.write(my_list_2) "
   ]
  },
  {
   "cell_type": "markdown",
   "id": "a06fec5f-1762-41bd-911e-950721fad0cd",
   "metadata": {
    "tags": []
   },
   "source": [
    "You should use the corresponding function for reading the file which is `read()`."
   ]
  },
  {
   "cell_type": "code",
   "execution_count": null,
   "id": "7adcdb29",
   "metadata": {
    "tags": []
   },
   "outputs": [],
   "source": [
    "file1.read()"
   ]
  },
  {
   "cell_type": "markdown",
   "id": "20132e82",
   "metadata": {},
   "source": [
    "Why the file is not readable?\n",
    "\n",
    "How we can read the content of the file? Try it in the next cell."
   ]
  },
  {
   "cell_type": "code",
   "execution_count": null,
   "id": "ba77b41b",
   "metadata": {
    "tags": []
   },
   "outputs": [],
   "source": [
    "file1 = open('Week 06 file1','r')"
   ]
  },
  {
   "cell_type": "code",
   "execution_count": null,
   "id": "e2e76624",
   "metadata": {
    "tags": []
   },
   "outputs": [],
   "source": [
    "file1.readline(5)"
   ]
  },
  {
   "cell_type": "markdown",
   "id": "15011380",
   "metadata": {},
   "source": [
    "Let us repeat this syntax by running the next cells: "
   ]
  },
  {
   "cell_type": "code",
   "execution_count": null,
   "id": "77b05d0d",
   "metadata": {
    "tags": []
   },
   "outputs": [],
   "source": [
    "file1.readline(2)"
   ]
  },
  {
   "cell_type": "code",
   "execution_count": null,
   "id": "8e67b49f",
   "metadata": {
    "tags": []
   },
   "outputs": [],
   "source": [
    "file1.readline(1)"
   ]
  },
  {
   "cell_type": "code",
   "execution_count": null,
   "id": "75b39d0a",
   "metadata": {
    "tags": []
   },
   "outputs": [],
   "source": [
    "file1.readline(6)"
   ]
  },
  {
   "cell_type": "code",
   "execution_count": null,
   "id": "06d39f83",
   "metadata": {
    "tags": []
   },
   "outputs": [],
   "source": [
    "file1.readline()"
   ]
  },
  {
   "cell_type": "code",
   "execution_count": null,
   "id": "62f53b83",
   "metadata": {
    "tags": []
   },
   "outputs": [],
   "source": [
    "file1.readline()"
   ]
  },
  {
   "cell_type": "code",
   "execution_count": null,
   "id": "b2629af1",
   "metadata": {
    "tags": []
   },
   "outputs": [],
   "source": [
    "file1.read()"
   ]
  },
  {
   "cell_type": "code",
   "execution_count": null,
   "id": "f872aa77-83e3-4c9e-83d3-5c07bd9e729f",
   "metadata": {
    "tags": []
   },
   "outputs": [],
   "source": [
    "file1.read()"
   ]
  },
  {
   "cell_type": "markdown",
   "id": "d4c0efe4",
   "metadata": {},
   "source": [
    "Now we are at the end of the available text in the file. In practice, the cursor has reached the end of the file and there is no left character to be read!"
   ]
  },
  {
   "cell_type": "markdown",
   "id": "7dd8ba42",
   "metadata": {},
   "source": [
    "When the end of a file is reached, you see `''` as the output of `read()`and `readline()` function.\n",
    "\n",
    "**Keep this example in your mind when you are executing some operations on the file inside a loop! Repeating the use of `read()` and `readline()` function in a loop does not mean you start reading the file from the beginning.**"
   ]
  },
  {
   "cell_type": "code",
   "execution_count": null,
   "id": "d3fc4522",
   "metadata": {
    "tags": []
   },
   "outputs": [],
   "source": [
    "file1.readlines()"
   ]
  },
  {
   "cell_type": "code",
   "execution_count": null,
   "id": "87635936",
   "metadata": {
    "tags": []
   },
   "outputs": [],
   "source": [
    "file1_readable = open('Week 06 file1','r')\n",
    "\n",
    "print(\"readline() results in:\", file1_readable.readline())\n",
    "\n",
    "print(\"readlines() results in:\", file1_readable.readlines())"
   ]
  },
  {
   "cell_type": "code",
   "execution_count": null,
   "id": "478cfc89",
   "metadata": {
    "tags": []
   },
   "outputs": [],
   "source": [
    "# Closing the opened file\n",
    "\n",
    "file1_readable.close()"
   ]
  },
  {
   "cell_type": "code",
   "execution_count": null,
   "id": "6a565b15",
   "metadata": {
    "tags": []
   },
   "outputs": [],
   "source": [
    "# Checking whether the file is closed \n",
    "\n",
    "file1_readable.closed"
   ]
  },
  {
   "cell_type": "markdown",
   "id": "ceda1941-fb9c-4d93-b408-e027588309f9",
   "metadata": {},
   "source": [
    "What is the difference between `close()` and `closed`?"
   ]
  },
  {
   "cell_type": "markdown",
   "id": "511ff92d",
   "metadata": {},
   "source": [
    "Read the code in the next cell. What do you expect?"
   ]
  },
  {
   "cell_type": "code",
   "execution_count": null,
   "id": "ab1f1633",
   "metadata": {
    "tags": []
   },
   "outputs": [],
   "source": [
    "file2 = open('Week 06 file2','w+')\n",
    "\n",
    "file2.write(\"Learning programming needs practice!\\n\")\n",
    "file2.write(\"We do practice!\\n\")\n",
    "\n",
    "file2.readlines()"
   ]
  },
  {
   "cell_type": "code",
   "execution_count": null,
   "id": "1cd96485",
   "metadata": {
    "tags": []
   },
   "outputs": [],
   "source": [
    "file2.read()"
   ]
  },
  {
   "cell_type": "code",
   "execution_count": null,
   "id": "5aab50ba",
   "metadata": {
    "tags": []
   },
   "outputs": [],
   "source": [
    "file2.readline()"
   ]
  },
  {
   "cell_type": "markdown",
   "id": "e4345442",
   "metadata": {},
   "source": [
    "What is the meaning of the next cell ?"
   ]
  },
  {
   "cell_type": "code",
   "execution_count": null,
   "id": "d3d3e924",
   "metadata": {
    "tags": []
   },
   "outputs": [],
   "source": [
    "open('Week 06 file2','r').read()"
   ]
  },
  {
   "cell_type": "markdown",
   "id": "64c77879",
   "metadata": {},
   "source": [
    "Sometimes some unwanted characters (related to the encoding process in Python) are generated in your file while writing on that. \n",
    "you can use the following syntax to get rid of the undesired characters, for example:\n",
    "\n",
    "```Python \n",
    "file2.readlines().replace('\\x00','')\n",
    "\n",
    "```\n",
    "\n",
    "The output of `readlines()` method is a list and `replace()` method should be used for a list. \n",
    "\n",
    "The easier but equivalent syntax is:\n",
    "\n",
    "```Python\n",
    "file22 = file2.readlines()\n",
    "file22.replace('\\x00','')\n",
    "```\n",
    "Do not forget to read your file from the begining, otherwise '\\x00' character cannot be found to be replaced!"
   ]
  },
  {
   "cell_type": "markdown",
   "id": "0edc73c5",
   "metadata": {},
   "source": [
    "**The second way to open a file is using `open()` function and `with` keyword.** The advantage compared to the first way is that, the file is automatically closed after being used. In this way, you do not need to use `close()` function to prevent unexpected changes. "
   ]
  },
  {
   "cell_type": "markdown",
   "id": "a2f6e4b7-41f4-4000-b29c-48fcdb396252",
   "metadata": {},
   "source": [
    "We can use `tell()` function to get the position of the cursor in our file (file handle). "
   ]
  },
  {
   "cell_type": "code",
   "execution_count": null,
   "id": "451a979d",
   "metadata": {
    "tags": []
   },
   "outputs": [],
   "source": [
    "counter_write = 0\n",
    "counter_read = 0"
   ]
  },
  {
   "cell_type": "code",
   "execution_count": null,
   "id": "8e1d061b",
   "metadata": {
    "tags": []
   },
   "outputs": [],
   "source": [
    "with open('Week 06 file2','a+') as file3:    \n",
    "    print('After opening before writing, the position of file handle is:',file3.tell())\n",
    "    file3.write(\"We continue to learn!\\n\")\n",
    "    #Comment B \n",
    "    print('After writing, the position of file handle is:',file3.tell())\n",
    "    \n",
    "counter_write = counter_write + 1\n",
    "print('counter_write is:',counter_write,'\\n')  "
   ]
  },
  {
   "cell_type": "code",
   "execution_count": null,
   "id": "77f413af",
   "metadata": {
    "tags": []
   },
   "outputs": [],
   "source": [
    "with open('Week 06 file2') as file3:        #Remember that the default mode is 'r'\n",
    "    #Comment C\n",
    "    print('After opening before reading, the position of file handle is:',file3.tell())\n",
    "    file3_content = file3.read()\n",
    "    #Comment D\n",
    "    print('After reading, the position of file handle is:',file3.tell())\n",
    "    \n",
    "counter_read = counter_read + 1\n",
    "print('counter_read is:',counter_read,'\\n')"
   ]
  },
  {
   "cell_type": "code",
   "execution_count": null,
   "id": "3110b52f",
   "metadata": {
    "tags": []
   },
   "outputs": [],
   "source": [
    "print(file3_content)                             #Printing the content of the file3"
   ]
  },
  {
   "cell_type": "code",
   "execution_count": null,
   "id": "6de248f8",
   "metadata": {
    "tags": []
   },
   "outputs": [],
   "source": [
    "print(file3)             #Printing file3 as the output of open() function which is file object"
   ]
  },
  {
   "cell_type": "code",
   "execution_count": null,
   "id": "1f0bece0",
   "metadata": {
    "tags": []
   },
   "outputs": [],
   "source": [
    "file3.closed   #Checking whether the files is closed    "
   ]
  },
  {
   "cell_type": "markdown",
   "id": "fc46487d",
   "metadata": {},
   "source": [
    "**Pay attention to the difference between these two sytanxes**:\n",
    "\n",
    "`file3.close()`       Here we close file3.\n",
    "\n",
    "`file3.closed`        Here we get the value of an attribute named `closed` to see whether `file3` is closed or not. The result is a boolean value:<br> \n",
    "`True`  if it is closed<br> \n",
    "`Flase` if it is not closed<br>\n",
    "\n",
    "\n"
   ]
  },
  {
   "cell_type": "markdown",
   "id": "63e2512c",
   "metadata": {},
   "source": [
    "# Reading Excel sheets\n",
    "\n",
    "We need to import the `Pandas` library. \n",
    "\n",
    "The two primary data structures of `Pandas`, **Series** (1-dimensional) and **DataFrame** (2-dimensional), handle the vast majority of typical use cases in finance, statistics and many areas of engineering.\n",
    "\n",
    "There are specific functions for reading excel file using Pandas library. The syntax is:\n",
    "\n",
    "```\n",
    "pandas.read_excel()\n",
    "```"
   ]
  },
  {
   "cell_type": "code",
   "execution_count": null,
   "id": "4682f286",
   "metadata": {
    "tags": []
   },
   "outputs": [],
   "source": [
    "import pandas as pd\n",
    "\n",
    "file4 = pd.read_excel('Digibau3_ExcelFile.xlsx')    \n",
    "\n",
    "file4_sheet2 = pd.read_excel('Digibau3_ExcelFile.xlsx', sheet_name='NewSheet')"
   ]
  },
  {
   "cell_type": "code",
   "execution_count": null,
   "id": "da6c1e32-3b4b-4b1b-b250-ab30ce7f8e13",
   "metadata": {
    "tags": []
   },
   "outputs": [],
   "source": [
    "type(file4)"
   ]
  },
  {
   "cell_type": "code",
   "execution_count": null,
   "id": "e1f66acb",
   "metadata": {
    "tags": []
   },
   "outputs": [],
   "source": [
    "print(file4)"
   ]
  },
  {
   "cell_type": "code",
   "execution_count": null,
   "id": "6a3386ff",
   "metadata": {
    "tags": []
   },
   "outputs": [],
   "source": [
    "print(file4_sheet2)"
   ]
  },
  {
   "cell_type": "code",
   "execution_count": null,
   "id": "eea474c3",
   "metadata": {
    "tags": []
   },
   "outputs": [],
   "source": [
    "file4.columns            #getting the label(s) of the columns"
   ]
  },
  {
   "cell_type": "code",
   "execution_count": null,
   "id": "5b718464",
   "metadata": {},
   "outputs": [],
   "source": [
    "file4.columns[1]"
   ]
  },
  {
   "cell_type": "code",
   "execution_count": null,
   "id": "0ab22b66",
   "metadata": {},
   "outputs": [],
   "source": [
    "file4.index              #getting the range containing the index values of rows"
   ]
  },
  {
   "cell_type": "code",
   "execution_count": null,
   "id": "0e0090f1",
   "metadata": {},
   "outputs": [],
   "source": [
    "len(file4.columns)       #getting the total number of columns"
   ]
  },
  {
   "cell_type": "markdown",
   "id": "c7a6d0a9",
   "metadata": {},
   "source": [
    "Run the next cell. Which property does it correspond to ?"
   ]
  },
  {
   "cell_type": "code",
   "execution_count": null,
   "id": "5ae28d96",
   "metadata": {},
   "outputs": [],
   "source": [
    "file4.size"
   ]
  },
  {
   "cell_type": "code",
   "execution_count": null,
   "id": "baa7d833",
   "metadata": {
    "tags": []
   },
   "outputs": [],
   "source": [
    "file4.values"
   ]
  },
  {
   "cell_type": "code",
   "execution_count": null,
   "id": "d79bf86a-7911-49fc-a326-cb1d6a32163e",
   "metadata": {
    "tags": []
   },
   "outputs": [],
   "source": [
    "type(file4.values)"
   ]
  },
  {
   "cell_type": "code",
   "execution_count": null,
   "id": "d21e1f29",
   "metadata": {
    "tags": []
   },
   "outputs": [],
   "source": [
    "file4.values[1]"
   ]
  },
  {
   "cell_type": "code",
   "execution_count": null,
   "id": "b5617f4c-2b89-47a6-b9fe-0c2954a0146f",
   "metadata": {
    "tags": []
   },
   "outputs": [],
   "source": [
    "type(file4.values[1])"
   ]
  },
  {
   "cell_type": "code",
   "execution_count": null,
   "id": "37f957cc",
   "metadata": {
    "tags": []
   },
   "outputs": [],
   "source": [
    "file4.values[1][0]"
   ]
  },
  {
   "cell_type": "markdown",
   "id": "7c3bd8d7",
   "metadata": {},
   "source": [
    "Compare this output with the output of `print(file4)`. What differences do you notice?"
   ]
  },
  {
   "cell_type": "code",
   "execution_count": null,
   "id": "9ce10165",
   "metadata": {},
   "outputs": [],
   "source": [
    "type(file4)"
   ]
  },
  {
   "cell_type": "markdown",
   "id": "b7234bc7-bd42-4bd9-a641-665fb052a3a7",
   "metadata": {},
   "source": [
    "'Array' is a data type which is accesible under `Numpy` library. However, we can change the type of `DataFrame`to an `Array` using  a method of `Pandas` library, named `to_numpy()`..."
   ]
  },
  {
   "cell_type": "code",
   "execution_count": null,
   "id": "35bc3dff",
   "metadata": {},
   "outputs": [],
   "source": [
    "file5 = file4.to_numpy()\n",
    "type(file5)"
   ]
  },
  {
   "cell_type": "code",
   "execution_count": null,
   "id": "7fc9fcb7",
   "metadata": {},
   "outputs": [],
   "source": [
    "file5[1]"
   ]
  },
  {
   "cell_type": "markdown",
   "id": "5e3d4d41",
   "metadata": {},
   "source": [
    "It was not possible to do so on `file4` as a DataFrame. Delete the comment below and run the cell to remember:"
   ]
  },
  {
   "cell_type": "code",
   "execution_count": null,
   "id": "3d4b6b8d",
   "metadata": {},
   "outputs": [],
   "source": [
    "file4[1]"
   ]
  },
  {
   "cell_type": "markdown",
   "id": "f52a2e91-1722-42e9-9b70-e929769e05a8",
   "metadata": {},
   "source": [
    "However, it is recommended (by who? by the developers of **Pandas** library) to convert a DataFrame to an Array using `NumPy` libraray itself."
   ]
  },
  {
   "cell_type": "markdown",
   "id": "583ba7e4",
   "metadata": {},
   "source": [
    "### Alternative way to convert a DataFrame to an Array \n",
    "Be careful, in this way you are using a function from NumPy, **so firstly you have to import NumPy library**:"
   ]
  },
  {
   "cell_type": "code",
   "execution_count": null,
   "id": "525d5a66",
   "metadata": {
    "tags": []
   },
   "outputs": [],
   "source": [
    "import numpy as np\n",
    "file6 = np.array(file4)"
   ]
  },
  {
   "cell_type": "code",
   "execution_count": null,
   "id": "38f32ed0-0be3-4b54-bfe7-29b51dbe1573",
   "metadata": {
    "tags": []
   },
   "outputs": [],
   "source": [
    "type(file6)"
   ]
  },
  {
   "cell_type": "code",
   "execution_count": null,
   "id": "3b4c06b9",
   "metadata": {},
   "outputs": [],
   "source": [
    "file6[0]"
   ]
  },
  {
   "cell_type": "code",
   "execution_count": null,
   "id": "da69dcf3-6ec5-4c20-8caf-dd947ca0f802",
   "metadata": {
    "tags": []
   },
   "outputs": [],
   "source": [
    "type(file6[0])"
   ]
  },
  {
   "cell_type": "code",
   "execution_count": null,
   "id": "5e6d6215",
   "metadata": {},
   "outputs": [],
   "source": [
    "#Getting all values in the second column of file 6\n",
    "\n",
    "file6[:,1]"
   ]
  },
  {
   "cell_type": "code",
   "execution_count": null,
   "id": "ddbd0293-ec7c-4278-b35b-13da4b9b6835",
   "metadata": {
    "tags": []
   },
   "outputs": [],
   "source": [
    "file6[:][1]  #Compare the sytanx with previous cell, and the outputs"
   ]
  },
  {
   "cell_type": "markdown",
   "id": "6d9861bf",
   "metadata": {},
   "source": [
    "How to get the first column by the **label of this column**? \n",
    "We know the label is 'Year'"
   ]
  },
  {
   "cell_type": "code",
   "execution_count": null,
   "id": "2a189760",
   "metadata": {
    "tags": []
   },
   "outputs": [],
   "source": [
    "np.array(file4.Year)"
   ]
  },
  {
   "cell_type": "code",
   "execution_count": null,
   "id": "22410285",
   "metadata": {},
   "outputs": [],
   "source": [
    "np.array(file4.per year Pressure)"
   ]
  },
  {
   "cell_type": "code",
   "execution_count": null,
   "id": "5b09420e",
   "metadata": {},
   "outputs": [],
   "source": [
    "np.array(file4.peryeartemperature)"
   ]
  },
  {
   "cell_type": "markdown",
   "id": "e11e2987",
   "metadata": {},
   "source": [
    "**Be careful about labelling the columns of your data. Try to use short terms without any space!**\n",
    "\n",
    "We can use the `file_object.at[index of row, 'label of column']` to have access to one variable located at specific row and column. Look at the following cell"
   ]
  },
  {
   "cell_type": "code",
   "execution_count": null,
   "id": "85959578",
   "metadata": {},
   "outputs": [],
   "source": [
    "file4.at[1, 'peryeartemperature']"
   ]
  },
  {
   "cell_type": "markdown",
   "id": "a2bc9c6e",
   "metadata": {},
   "source": [
    "We know that 'peryeartemperature' is the third column. How we can use the index instead of using the label?"
   ]
  },
  {
   "cell_type": "code",
   "execution_count": null,
   "id": "dab1bae6",
   "metadata": {},
   "outputs": [],
   "source": [
    " #file4.at[1, 2]"
   ]
  },
  {
   "cell_type": "markdown",
   "id": "c8124f3c",
   "metadata": {},
   "source": [
    "What about the next syntax?"
   ]
  },
  {
   "cell_type": "code",
   "execution_count": null,
   "id": "a26119dd",
   "metadata": {},
   "outputs": [],
   "source": [
    "file5[1, 2]"
   ]
  },
  {
   "cell_type": "markdown",
   "id": "30cbc9ef",
   "metadata": {},
   "source": [
    "The only difference between `file4` and `file5` is that: `file4` is a DataFrame and `file5` is an Array.\n",
    "It is easier to work with Arrays because we can have access to the values only by using the name of the array and knowing the index of row and column.\n",
    "\n",
    "If you review the previous syntaxes, we used :\n",
    "\n",
    "`file4.columns` <br>\n",
    "`file4.index`   <br>\n",
    "`file4.size`    <br>\n",
    "\n",
    "Could we instead use the following syntaxes? If you do not know the answer right now, I wait for the answer of this question from you as an exercise.\n",
    "\n",
    "`file4.columns()`  <br>\n",
    "`file4.index()`    <br>\n",
    "`file4.size()`     <br>"
   ]
  },
  {
   "cell_type": "markdown",
   "id": "75afa92f",
   "metadata": {},
   "source": [
    "**Debugging Exercise**\n",
    "Delete the comment line by line and run it to see the result...You should know at this time the difference between attributes and methods."
   ]
  },
  {
   "cell_type": "code",
   "execution_count": null,
   "id": "8a7c63ef",
   "metadata": {},
   "outputs": [],
   "source": [
    "#file4.columns()\n",
    "#file4.index()\n",
    "#file4.size()"
   ]
  },
  {
   "cell_type": "markdown",
   "id": "437b4ab4",
   "metadata": {},
   "source": [
    "# Reading CSV Files \n",
    "\n",
    "CSV stands for \"Comma Separated Values\"\n",
    "\n",
    "Same as Excel sheets we can read the `.csv` files as DataFrame. Then we can convert them to Arrays and easily work with them as we learned in section 9.1\n"
   ]
  },
  {
   "cell_type": "code",
   "execution_count": null,
   "id": "72d931be",
   "metadata": {},
   "outputs": [],
   "source": [
    "file6 = pd.read_csv('Digibau3_CSVFile.csv')         #Reading CSV file as DataFrame"
   ]
  },
  {
   "cell_type": "code",
   "execution_count": null,
   "id": "b0a5d3d9",
   "metadata": {
    "tags": []
   },
   "outputs": [],
   "source": [
    "print(file6)"
   ]
  },
  {
   "cell_type": "code",
   "execution_count": null,
   "id": "f3655e1f",
   "metadata": {},
   "outputs": [],
   "source": [
    "type(file6)"
   ]
  },
  {
   "cell_type": "code",
   "execution_count": null,
   "id": "edd00ffc",
   "metadata": {
    "tags": []
   },
   "outputs": [],
   "source": [
    "file6.head()           #Getting the first 5 rows"
   ]
  },
  {
   "cell_type": "code",
   "execution_count": null,
   "id": "dfead8c8",
   "metadata": {},
   "outputs": [],
   "source": [
    "type(file6.head())"
   ]
  },
  {
   "cell_type": "markdown",
   "id": "c3d45a6d",
   "metadata": {},
   "source": [
    "How to get the last five rows?"
   ]
  },
  {
   "cell_type": "code",
   "execution_count": null,
   "id": "74ba7699",
   "metadata": {},
   "outputs": [],
   "source": [
    "file6.tail()"
   ]
  },
  {
   "cell_type": "markdown",
   "id": "77211745",
   "metadata": {},
   "source": [
    "Convert `file6` as a DataFrame into an Array. Name it as file6_array:"
   ]
  },
  {
   "cell_type": "code",
   "execution_count": null,
   "id": "912d2179",
   "metadata": {},
   "outputs": [],
   "source": [
    "file6_array = np.array(file6)"
   ]
  },
  {
   "cell_type": "code",
   "execution_count": null,
   "id": "cc1c96f7-2749-46bf-a875-9c90cda78be9",
   "metadata": {
    "tags": []
   },
   "outputs": [],
   "source": [
    "file6_array = file6.to_numpy()"
   ]
  },
  {
   "cell_type": "markdown",
   "id": "192bf63a",
   "metadata": {},
   "source": [
    "Get the value of the last row and last column of file6_array"
   ]
  },
  {
   "cell_type": "code",
   "execution_count": null,
   "id": "c84564f0",
   "metadata": {},
   "outputs": [],
   "source": [
    "file6_array[-1,-1]"
   ]
  },
  {
   "cell_type": "markdown",
   "id": "5ba3f83d",
   "metadata": {},
   "source": [
    "**Another possibility to read `.csv` files is using a Python module being named `csv`**"
   ]
  },
  {
   "cell_type": "code",
   "execution_count": null,
   "id": "3feccfec",
   "metadata": {},
   "outputs": [],
   "source": [
    "import csv \n",
    "\n",
    "file7 = open('Digibau3_CSVFile.csv')\n",
    "file7_content = csv.reader(file7)       "
   ]
  },
  {
   "cell_type": "code",
   "execution_count": null,
   "id": "be6d5b82",
   "metadata": {},
   "outputs": [],
   "source": [
    "type(file7)"
   ]
  },
  {
   "cell_type": "code",
   "execution_count": null,
   "id": "fa53b2c0",
   "metadata": {},
   "outputs": [],
   "source": [
    "type(file7_content)      #file7_content is not a DataFrame and it is not an Array"
   ]
  },
  {
   "cell_type": "markdown",
   "id": "f98ea415",
   "metadata": {},
   "source": [
    "The out put of csv.reader( ) is a **reader object**. \n",
    "This means we cannot print the content of the file just by printing. Let us try:\n"
   ]
  },
  {
   "cell_type": "code",
   "execution_count": null,
   "id": "801d5da1",
   "metadata": {},
   "outputs": [],
   "source": [
    "print(file7_content)"
   ]
  },
  {
   "cell_type": "markdown",
   "id": "0ee1ff77",
   "metadata": {},
   "source": [
    "How to read the content of .csv file after reading it through csv module?"
   ]
  },
  {
   "cell_type": "code",
   "execution_count": null,
   "id": "496bfdb7",
   "metadata": {
    "tags": []
   },
   "outputs": [],
   "source": [
    "# Check it out\n",
    "import csv\n",
    "\n",
    "file8 = csv.DictReader(file7)\n",
    "\n",
    "#type(file8)\n",
    "    \n",
    "for row in file8:\n",
    "    print (row)\n",
    "\n",
    "#file8 is NOT a dictionary, it is a DictReader object. Do not expect to perform operations on it like a dictionary"
   ]
  },
  {
   "cell_type": "code",
   "execution_count": null,
   "id": "64b66c04",
   "metadata": {},
   "outputs": [],
   "source": [
    "# Does the next syntax work or not?\n",
    "#file8.keys()"
   ]
  },
  {
   "cell_type": "markdown",
   "id": "97eddb73",
   "metadata": {},
   "source": [
    "I think it is clear now that why it is more easier to open a `.csv` file as a DataFrame using Pandas library and then converting it into an Array. It makes life easier for those who work with files!"
   ]
  },
  {
   "cell_type": "markdown",
   "id": "336dfc27",
   "metadata": {},
   "source": [
    "### Exercise\n",
    "\n",
    "Write a loop which generates a 10 x 5 (row x column) array called **Grade**: <br>\n",
    "    The first column contains alphabets starting from 'A' <br>\n",
    "    The second column contains random values between 0 to 1 <br>\n",
    "    The third column contains integers between 10 to 100 with any incrementation you desire <br>\n",
    "    The fourth column contains the name of the months starting from 'January'<br>\n",
    "\n",
    "- Print the contents of Grade in an Excel sheet\n",
    "- Print the contents of Grade as a `.csv` file\n",
    "- Generate a new Excel file containing only column 2 and 3\n",
    "- Merge the data available in the new generated Excel File with the original one"
   ]
  },
  {
   "cell_type": "code",
   "execution_count": null,
   "id": "49f035f0-4fa0-4ec7-94a5-583d4108b474",
   "metadata": {},
   "outputs": [],
   "source": [
    "# Do it by yourself first\n",
    "#\n",
    "#\n",
    "#\n",
    "#\n",
    "#\n",
    "#\n",
    "#\n",
    "#\n",
    "#\n",
    "#\n",
    "#\n",
    "#\n",
    "#\n",
    "#\n",
    "#\n",
    "#\n",
    "#\n",
    "#"
   ]
  },
  {
   "cell_type": "code",
   "execution_count": null,
   "id": "88f2e4b5-2ff0-4c51-adae-608ab983246b",
   "metadata": {
    "tags": []
   },
   "outputs": [],
   "source": [
    "import numpy as np\n",
    "import string\n",
    "import random\n",
    "import pandas as pd\n",
    "\n",
    "Grade = np.zeros((10,5), dtype=object)\n",
    "A = string.ascii_uppercase\n",
    "months = 'Jan','Feb','March','Apr','May','Jun','Jul','Aug','Sep','Oct','Nov','Dec'\n",
    "\n",
    "index_col = 0\n",
    "index_row = 0\n",
    "\n",
    "while index_row < 10:\n",
    "    Grade[index_row][index_col] = A[index_row]\n",
    "    Grade[index_row][index_col+1] = random.random()      \n",
    "    Grade[index_row][index_col+2] = random.randint(10,100)\n",
    "    Grade[index_row][index_col+3] = months[index_row]\n",
    "    index_row += 1\n",
    "    \n",
    "print(Grade)\n",
    "\n",
    "Grade_df = pd.DataFrame(Grade)\n",
    "Grade_df_partial = pd.DataFrame(Grade[:,2:4])\n",
    "\n",
    "#print(type(Grade))\n",
    "#print(type(Grade_df))\n",
    "\n",
    "Excel_File_1 = Grade_df.to_excel(\"Output_DigiBau3.xlsx\", sheet_name='DigiBau3_FirstSheet') \n",
    "CSV_File_1 = Grade_df.to_csv(\"Output_DigiBau3.csv\")\n",
    "Excel_File_2 = pd.DataFrame(Grade[:,2:4]).to_excel(\"Partial_Output_DigiBau3.xlsx\") \n",
    "\n",
    "Grade_df_merged = Grade_df.merge(Grade_df_partial, left_index = True, right_index = True)\n",
    "#print(Grade_df)\n",
    "#print(Grade_df_partial)\n",
    "#print(Grade_df_merged)\n",
    "Excel_file_3 = Grade_df_merged.to_excel(\"Output_DigiBau3_merged.xlsx\")"
   ]
  },
  {
   "cell_type": "markdown",
   "id": "04c5635e",
   "metadata": {},
   "source": [
    "### Exercise: How to deal with a text file with any other delimiter rather than comma?\n",
    "\n",
    "Generate a small text file containing the following data with a delimiter, as an example, `;` or `|`\n",
    "\n",
    "1.0;2.0;3.0;<br>\n",
    "4.0;5.0;6.0;<br>\n",
    "7.0;8.0;9.0;<br>\n",
    "\n",
    "\n",
    "Name it as 'data.txt' and upload it to be readable through this Jupyter notebook.\n",
    "Run the next cells. Then open the generated file named as 'mydata.txt' and to see the applied change on the delimiter."
   ]
  },
  {
   "cell_type": "code",
   "execution_count": null,
   "id": "dc9a50b7",
   "metadata": {},
   "outputs": [],
   "source": [
    "import csv\n",
    "import os \n",
    "\n",
    "file_input_loc = os.path.expanduser(\"~/data.txt\")        # Path of the data.txt file as input           \n",
    "file_output_loc = os.path.expanduser(\"~/mydata.txt\")     # Path of the mydata.txt file as  output  \n",
    "\n",
    "#r'\\Users\\name\\Downloads\\mydata.csv'                     # Example of passing exact path of the file\n",
    "#\\\\Users\\\\name\\\\Downloads\\\\mydata.csv' "
   ]
  },
  {
   "cell_type": "code",
   "execution_count": null,
   "id": "2eb1e85a",
   "metadata": {},
   "outputs": [],
   "source": [
    "with open(file_input_loc, 'r') as file_in2, open(file_output_loc, 'w') as file_out2:\n",
    "    file_in2_rows = csv.reader(file_in2,delimiter=';')\n",
    "    file_out2_rows = csv.writer(file_out2, delimiter=',')\n",
    "    file_out2_rows.writerows(file_in2_rows)"
   ]
  },
  {
   "cell_type": "markdown",
   "id": "0f904c5f",
   "metadata": {},
   "source": [
    "Change the mode from `w` to `a+` for the output file and then run the previous cell once more. Check the content of file to see the difference."
   ]
  },
  {
   "cell_type": "markdown",
   "id": "6ecf8160",
   "metadata": {},
   "source": [
    "#### Some useful links to the documentation of Pandas and NumPy: \n",
    "\n",
    "https://pandas.pydata.org/docs/getting_started/intro_tutorials/index.html\n",
    "\n",
    "https://numpy.org/doc/stable/user/absolute_beginners.html\n",
    "\n",
    "Useful links to the documentation of Python relevant to Files and csv module:\n",
    "\n",
    "https://docs.python.org/3/tutorial/inputoutput.html\n",
    "\n",
    "\n",
    "https://docs.python.org/3/library/csv.html"
   ]
  }
 ],
 "metadata": {
  "kernelspec": {
   "display_name": "Python 3 (ipykernel)",
   "language": "python",
   "name": "python3"
  },
  "language_info": {
   "codemirror_mode": {
    "name": "ipython",
    "version": 3
   },
   "file_extension": ".py",
   "mimetype": "text/x-python",
   "name": "python",
   "nbconvert_exporter": "python",
   "pygments_lexer": "ipython3",
   "version": "3.9.7"
  }
 },
 "nbformat": 4,
 "nbformat_minor": 5
}
