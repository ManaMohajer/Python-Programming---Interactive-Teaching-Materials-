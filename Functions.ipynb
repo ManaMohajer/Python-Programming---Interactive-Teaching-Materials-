{
 "cells": [
  {
   "cell_type": "markdown",
   "id": "ef413198",
   "metadata": {},
   "source": [
    "# **Functions**\n",
    "\n",
    "\n",
    "\n",
    "# **What do we already know about \"Functions\"?**\n",
    "\n",
    "We have all heard this term, '**Function**', while studying mathematics in the highschool. \n",
    "\n",
    "**There are some functions that are already defined for us**:\n",
    "\n",
    "**Trigonometric Functions**:                                      `sin(X)`         `arcsin(X)`        `tan(X)`\n",
    "\n",
    "\n",
    "The operations of these functions are globally known and constant. We simply use them.\n",
    "\n",
    "\n",
    "**Polynomial Functions**: for example, a linear function. We can select our desired name for that like Lin or f1:  `Lin(X,C)`   or    `f1(X,C)` \n",
    "\n",
    "\n",
    "**Exponential Functions**: We can select our desired name:                                  `Exp(X)`         or    `f2(X)`          \n",
    "\n",
    "## What are the similiarities/differences among these functions?\n",
    "\n",
    "- Each function has an individual `name` . (It is more understandable if you select a relevant `name` to define a new function. We will see in the next sections that we **can** define some functions anonymously in Python).\n",
    "\n",
    "- Each function gets individual `argument(s)` as input(s). \n",
    "\n",
    "-  Two parantheses `()` are a part of the notation of our functions.  We see difference between `sin()` and `sin`, the same is true for our computers! Even if our function does not need to get any `argument`, we have to insert `()` but leaving it empty.\n",
    "\n",
    "- We should not forget the separating comma `,` between `arguments`.\n",
    "\n",
    "- The `arguments` can have different types.\n",
    "\n",
    "## How do we include functions in our programms? \n",
    "\n",
    "**a)** Simply speaking, we include the functions which are already defined by **using their name and passing the required arguments**! In the context of programming, we **call** the already-defined functions. They might be either defined by others, like `sin()`, or by us as new functions! If you **call** a function which is not yet defined, you will have error.  \n",
    "\n",
    "**b)** We **define** the new functions.\n",
    "\n",
    "\n",
    "## a) Calling the already-defined function: \n",
    "\n",
    "Let us extract a framework being used to **call** the functions:\n",
    "   \n",
    "   \n",
    "In the context of mathematics, a framework for calling the functions looks like `Name_of_function(argument1,argument2,...,argumentN)`\n",
    "\n",
    "**Does this framework remind you any syntax that you used in the previous session?!**\n",
    "\n",
    "**What happens when we call a function by using this framework?**\n",
    "\n",
    "When we **call** a function, we pass the required `arguments`, if any, to the functions. Then, the programm enters into the definition of the function, the operations start to be executed. At the end, the function `returns` the output to the user. \n",
    "\n",
    "Where does this output get available? After executing the line of the code where the function is called. We can save the output of our function, and use it further, by assigning it to a variable named here \"output\":\n",
    "\n",
    " `output = Name_of_function(argument1,argument2,...,argumentN)`\n",
    "\n",
    "\n",
    "\n",
    "## b) Defining new function: \n",
    "\n",
    "The expressions can contain basic mathematical expressions (devision,summation,multiplication,etc.), loops, printing, calling other function. These expressions are all written inside the **definition** of the functions. \n",
    "\n",
    "`Lin(X,C1,C2) = C1 * X + C2`\n",
    "\n",
    "`Area(b,h) = b.h`\n",
    "\n",
    "\n",
    "In the context of mathematics, a framework for defining the functions looks like `Name_of_function(argument1,...,argumentN) = expression`\n",
    "\n",
    "or\n",
    "\n",
    "`Name_of_function(argument1,...,argumentN) = set of expressions`\n",
    "\n",
    "**What happens when we define a function?**\n",
    "\n",
    "We **define** the expressions which need to be performed inside the function. If you **define** a function but you do not **call** it, practically you just waste your time! A defined function without being called is equivalent to nothing!\n",
    "\n",
    "Remember that...`sin()` is already **defined** but it never gives any result without being **called**!\n",
    "\n",
    "\n",
    "## Summary so far\n",
    "\n",
    "We extracted two frameworks to **call** and to **define** functions in the context of maths. \n",
    "\n",
    "Last session, we simply used `=` to **define** simple math operations, practically to assigned a value to a variable through math operations. The same concept makes sense for calling/defining a function. We define some expressions composed of mathematical operations, loops and conditional statements, then we assign the calculated value(s) to output variable(s). \n",
    "\n",
    "How to **define** a new function to print? Or a new function with several loops? We have to translate the extracted frameworks in Python.\n",
    "\n",
    "\n",
    "# Functions in Python\n",
    "\n",
    "## Built-in Functions in Python                       \n",
    "\n",
    "You can check the complete list of the built-in functions here on https://docs.python.org/3/library/functions.html\n",
    "\n",
    "Please look at the title: **Built-in**! It means they are already defined and needed simply to be **called** by their name.\n",
    "\n",
    "For example, we use `| |` to get the absolute value of a parameter in maths. In Python we have `abs()` buit-in function.\n",
    "\n",
    "Another example: To recognize the minimun value among five parameters, we just look at them and use the standard order of numbering in maths. There are `min()` and `max()` functions available in built-in functions of Python.\n",
    "\n",
    "For these simple operations we **call** built-in functions of Python. "
   ]
  },
  {
   "cell_type": "code",
   "execution_count": null,
   "id": "fd457a3d",
   "metadata": {},
   "outputs": [],
   "source": [
    "y1 = -100\n",
    "abs(y1)\n",
    "#y1"
   ]
  },
  {
   "cell_type": "code",
   "execution_count": null,
   "id": "685e303f",
   "metadata": {},
   "outputs": [],
   "source": [
    "y2 = -100.5\n",
    "abs(y2)"
   ]
  },
  {
   "cell_type": "markdown",
   "id": "d3d4e2ae",
   "metadata": {},
   "source": [
    "Among the list of built-in functions of Python, we see `range()` but in detailed description we see that it is more than a function! (we will talk about it in more detail in next sessions). It generates a range or an interval of numbers which we use particularly to make the loops/conditional statements being repeated. \n",
    "\n",
    "Let us start with simple syntax to use `range()`:"
   ]
  },
  {
   "cell_type": "code",
   "execution_count": null,
   "id": "70f0c5ee",
   "metadata": {},
   "outputs": [],
   "source": [
    "x = range(200)   #Default of starting value is Zero    #Default of incrementation is +1\n",
    "print(x)\n",
    "#x = x + 1"
   ]
  },
  {
   "cell_type": "markdown",
   "id": "21e38cc3-9f85-4214-9445-13c2c33f5b7f",
   "metadata": {},
   "source": [
    "Write a while loop to print all values in the interval:"
   ]
  },
  {
   "cell_type": "code",
   "execution_count": null,
   "id": "6e39a9b4-a1d9-433d-993f-d5adf45499cb",
   "metadata": {
    "tags": []
   },
   "outputs": [],
   "source": [
    "x = 0\n",
    "while x in range(200):\n",
    "    print(x)\n",
    "    x = x + 1"
   ]
  },
  {
   "cell_type": "code",
   "execution_count": null,
   "id": "42e32083-233f-4bc8-ac3b-349190a877a6",
   "metadata": {
    "tags": []
   },
   "outputs": [],
   "source": [
    "x = range(200)\n",
    "i = 0\n",
    "while i in x:\n",
    "    print(i)\n",
    "    i = i + 1"
   ]
  },
  {
   "cell_type": "code",
   "execution_count": null,
   "id": "a70cf4d3",
   "metadata": {},
   "outputs": [],
   "source": [
    "min(x)"
   ]
  },
  {
   "cell_type": "code",
   "execution_count": null,
   "id": "614e9f4e",
   "metadata": {},
   "outputs": [],
   "source": [
    "max(x)"
   ]
  },
  {
   "cell_type": "code",
   "execution_count": null,
   "id": "75d97674",
   "metadata": {},
   "outputs": [],
   "source": [
    "x = range(10,200)          #Changing the default of starting value "
   ]
  },
  {
   "cell_type": "code",
   "execution_count": null,
   "id": "a42abe95",
   "metadata": {},
   "outputs": [],
   "source": [
    "y = 10   \n",
    "if y in range (1,100,3):   #Changing the default of starting value and incrementation\n",
    "    print(y)\n",
    "else:\n",
    "    print(\"y is not in the selected range with selected incrementation\")"
   ]
  },
  {
   "cell_type": "markdown",
   "id": "b64f5f77",
   "metadata": {},
   "source": [
    "Consider the following code. Before running it, which statement you excpect to see on the screen?"
   ]
  },
  {
   "cell_type": "code",
   "execution_count": null,
   "id": "08515e1e",
   "metadata": {},
   "outputs": [],
   "source": [
    "y = 2 \n",
    "if y in range (0,10,2):   \n",
    "    print(y)\n",
    "else:\n",
    "    print(\"y is not in the selected range with selected incrementation\")"
   ]
  },
  {
   "cell_type": "markdown",
   "id": "a9005003",
   "metadata": {},
   "source": [
    "**Example 1:**<br>\n",
    "\n",
    "Write a loop which finds the even numbers starting from 100 to 50. <br>\n",
    "Calculate the even numbers to the power of 5 and print them. <br>\n",
    "Try to use built-in functions for your operations where it is possible."
   ]
  },
  {
   "cell_type": "code",
   "execution_count": null,
   "id": "1fdcd195",
   "metadata": {},
   "outputs": [],
   "source": []
  },
  {
   "cell_type": "markdown",
   "id": "502fc509",
   "metadata": {},
   "source": [
    "Change your loop to print only the value of last even number to the power of 5 :"
   ]
  },
  {
   "cell_type": "code",
   "execution_count": null,
   "id": "fc683362",
   "metadata": {},
   "outputs": [],
   "source": [
    "   "
   ]
  },
  {
   "cell_type": "markdown",
   "id": "bd332cdd",
   "metadata": {},
   "source": [
    "## Mathematical Functions in Python                          \n",
    "\n",
    "Now we want to get the sine of an angle equal to 90 degrees:  "
   ]
  },
  {
   "cell_type": "code",
   "execution_count": null,
   "id": "6447c289",
   "metadata": {
    "tags": []
   },
   "outputs": [],
   "source": [
    "x = 90     \n",
    "sin(x) "
   ]
  },
  {
   "cell_type": "markdown",
   "id": "cdbb8175",
   "metadata": {},
   "source": [
    "We got error! The best way to solve the error is to check the Documentation of Python and look for the syntax which we need to call `sin()` function."
   ]
  },
  {
   "cell_type": "markdown",
   "id": "e68c2cf3",
   "metadata": {},
   "source": [
    "As you see in the Documentation, `sin()`is not available on the list of built-in functions! Specific mathematical functions are different and  cannot be only **called** by writing their name. They are available under a `library` which is named `math` and we should first include  this `library` in our code as well.\n",
    "\n",
    "In programming languages, a `library` is a collection of prewritten codes that we have to `import` it. Then we can take the advantage of the prewritten codes. Any programming languages has different libraries.\n",
    "\n",
    "\n",
    "For example, here you can check the list of mathematical functions in Python under `math` library and the mathematical functions for complex numbers under `cmath`librray:\n",
    "\n",
    "Mathematical Functions.                           https://docs.python.org/3/library/math.html\n",
    "\n",
    "Mathematical Functions for complex numbers        https://docs.python.org/3/library/cmath.html\n",
    "\n",
    "\n",
    "Going back to the problem with calling `sin()` as a mathematical function, first we should `import`the library by writing:\n",
    "```Python\n",
    "import name_of_library\n",
    "```\n",
    "\n",
    "Then we can **call** the function as : \n",
    "\n",
    "```Python\n",
    "name_of_library.name_of_function(arguments)\n",
    "```\n",
    "\n",
    "Now try to get the sine of an angle with 90 degree"
   ]
  },
  {
   "cell_type": "code",
   "execution_count": null,
   "id": "249e8464",
   "metadata": {
    "tags": []
   },
   "outputs": [],
   "source": [
    "import math\n",
    "x = 90\n",
    "math.sin(x)"
   ]
  },
  {
   "cell_type": "markdown",
   "id": "3e9ec55e",
   "metadata": {},
   "source": [
    "We know the sine of 90 degree is one. The result shows that Python treated 90 as a value with another unit. If this is the first time you are using it, do not worry! It is completey normal that you do not know. You should check this on the Documentation....Yeah! `sin( )` in Python gets the angle in Radian!\n",
    "\n",
    "We need to convert degree to radian! It is a mathematical operation so a relevant function should be found under the same `math` library!"
   ]
  },
  {
   "cell_type": "code",
   "execution_count": null,
   "id": "745fe573",
   "metadata": {
    "tags": []
   },
   "outputs": [],
   "source": [
    "# If you have already imported `math` in the previous cells \n",
    "# AND\n",
    "# you have already run that cell, you do not need to import it again here.\n",
    "\n",
    "import math                          \n",
    "y = math.radians(x)                  \n",
    "math.sin(y)"
   ]
  },
  {
   "cell_type": "markdown",
   "id": "95e848ec",
   "metadata": {},
   "source": [
    "How to merge the last two lines of code in one line? Try it in the next cell"
   ]
  },
  {
   "cell_type": "code",
   "execution_count": null,
   "id": "ef7099e0-1e19-4cbd-8f28-94d1bc7db110",
   "metadata": {},
   "outputs": [],
   "source": []
  },
  {
   "cell_type": "code",
   "execution_count": 1,
   "id": "c880664b",
   "metadata": {},
   "outputs": [],
   "source": [
    "#Hope you wrote the same as following!\n",
    "#\n",
    "#\n",
    "#\n",
    "#\n",
    "#math.sin(math.radians(x))"
   ]
  },
  {
   "cell_type": "markdown",
   "id": "abddc509",
   "metadata": {},
   "source": [
    "## Definiton of new functions in Python \n",
    "\n",
    "\n",
    "Your function may not `return` any variable. In the context of programming, we say in this case the type of output is `void`. Such a function is used to perform some operations:\n",
    "\n",
    "```Python\n",
    "def name_of_function():    \n",
    "    expression\n",
    "    expression\n",
    "    expression\n",
    "    ...\n",
    "    expression\n",
    "    return\n",
    "```\n",
    "\n",
    "As another case the function can return an output, for example, a number, a character, an array, etc.\n",
    "\n",
    "```Python \n",
    "def name_of_function():    \n",
    "    expression\n",
    "    expression\n",
    "    expression\n",
    "    ...\n",
    "    expression\n",
    "    return output\n",
    "```\n",
    "    \n",
    "\n"
   ]
  },
  {
   "cell_type": "code",
   "execution_count": null,
   "id": "8f17da99",
   "metadata": {},
   "outputs": [],
   "source": [
    "#Function definition\n",
    "def greet(name):\n",
    "    print(\"Hello, \" , name , \". Good afternoon!\")            \n",
    "    return"
   ]
  },
  {
   "cell_type": "code",
   "execution_count": null,
   "id": "f51ab112",
   "metadata": {},
   "outputs": [],
   "source": [
    "#Function call\n",
    "greet('ALL')"
   ]
  },
  {
   "cell_type": "markdown",
   "id": "0d0d0ef3",
   "metadata": {},
   "source": [
    "Try to comment `return` in the definition of `greet()` function and run it again!"
   ]
  },
  {
   "cell_type": "markdown",
   "id": "7973822f",
   "metadata": {},
   "source": [
    "**Example 2:**<br>\n",
    "\n",
    "Define a Function which gets the name of a day, and a number called n from the user. The name has to be printed n times.\n",
    "\n",
    "Think about these questions before writing any function:  \n",
    "what are the arguments?<br> \n",
    "what is the expression/operation that function should perform?<br>\n",
    "what is the output? which type of output do you need?<br>\n",
    "\n",
    "Now start: "
   ]
  },
  {
   "cell_type": "code",
   "execution_count": null,
   "id": "e0e1b639",
   "metadata": {},
   "outputs": [],
   "source": [
    "#Function definition\n"
   ]
  },
  {
   "cell_type": "code",
   "execution_count": null,
   "id": "892a55af",
   "metadata": {},
   "outputs": [],
   "source": [
    "#Function call\n"
   ]
  },
  {
   "cell_type": "markdown",
   "id": "ffd5d0dd-6cdb-4675-beaa-6011b9c63774",
   "metadata": {},
   "source": [
    "Call this defind fuction with another set of arguments. You defined your function once and you can call it as many times as you desire."
   ]
  },
  {
   "cell_type": "code",
   "execution_count": 2,
   "id": "267b00dc-ff1d-4478-9e0e-cdaaf651ae82",
   "metadata": {},
   "outputs": [],
   "source": [
    "#Function call"
   ]
  },
  {
   "cell_type": "markdown",
   "id": "5eccceb1",
   "metadata": {},
   "source": [
    "**Example 3:**<br>\n",
    "\n",
    "Define a function which finds the even numbers between a and b. <br>\n",
    "Calculate the even numbers to the power of n and print them. <br>\n",
    "Depending on the value of a and b given by user while calling the function, no even number may exist. The function should report us this case. <b>"
   ]
  },
  {
   "cell_type": "code",
   "execution_count": null,
   "id": "02580af0",
   "metadata": {},
   "outputs": [],
   "source": [
    "#Function defintion\n",
    "\n",
    "#Check your function with some critical inputs to make sure it performs correctly for all cases. "
   ]
  },
  {
   "cell_type": "code",
   "execution_count": null,
   "id": "3582ea23-5771-45c6-b26b-9554067df86d",
   "metadata": {
    "tags": []
   },
   "outputs": [],
   "source": [
    "#Function call"
   ]
  },
  {
   "cell_type": "markdown",
   "id": "62fc979d",
   "metadata": {},
   "source": [
    "Try to run the follwoing script and understand what is going on:"
   ]
  },
  {
   "cell_type": "code",
   "execution_count": null,
   "id": "0708db63",
   "metadata": {},
   "outputs": [],
   "source": [
    "def new_func():\n",
    "    x = 10\n",
    "    print(\"Value of x inside function:\",x)\n",
    "    return x+45\n",
    "\n",
    "x = 20\n",
    "\n",
    "new_func()                          # Here you call function WITHOUT assigning its output to any variable\n",
    "\n",
    "print(\"Value of x outside function:\",x)"
   ]
  },
  {
   "cell_type": "markdown",
   "id": "68b80c9a",
   "metadata": {},
   "source": [
    "Let us run the next cells, one-by-one, and see the results!"
   ]
  },
  {
   "cell_type": "code",
   "execution_count": null,
   "id": "705126f8",
   "metadata": {},
   "outputs": [],
   "source": [
    "y = new_func()                     # Here you call the function and assign its OUTPUT to y"
   ]
  },
  {
   "cell_type": "code",
   "execution_count": null,
   "id": "196e9fde",
   "metadata": {},
   "outputs": [],
   "source": [
    "print(y)"
   ]
  },
  {
   "cell_type": "code",
   "execution_count": null,
   "id": "e34f405b",
   "metadata": {},
   "outputs": [],
   "source": [
    "print(new_func())      # Here you call the defined function as the argument of print(). Then you print any available output."
   ]
  },
  {
   "cell_type": "markdown",
   "id": "58267f4f",
   "metadata": {},
   "source": [
    "Well done!\n",
    "\n",
    "Now consider the next two cells and find the differences in the syntax.\n",
    "\n",
    "Then, run following programs and try to understand what is going on:"
   ]
  },
  {
   "cell_type": "code",
   "execution_count": null,
   "id": "5d0d38b7",
   "metadata": {},
   "outputs": [],
   "source": [
    "def new_func():\n",
    "    x = 10\n",
    "    #print(\"Value of x inside function:\",x)\n",
    "    #return x+45\n",
    "    \n",
    "y = new_func()         # Here you call the function and assign its OUTPUT to y\n",
    "\n",
    "print(new_func())      # Here you call the defined function as the argument of print(). Then you print any available output.\n",
    "print(y) \n",
    "print(x)"
   ]
  },
  {
   "cell_type": "code",
   "execution_count": null,
   "id": "86e81f4e",
   "metadata": {},
   "outputs": [],
   "source": [
    "x = 100\n",
    "def new_func():\n",
    "    x = 10\n",
    "    #print(\"Value of x inside function:\",x)\n",
    "    return \n",
    "    \n",
    "y = new_func()         # Here you call the function, and assign its OUTPUT to y\n",
    "\n",
    "print(new_func())      # Here you call the defined function as the argument of print(). Then you print any available output.\n",
    "print(y)\n",
    "print(x)"
   ]
  },
  {
   "cell_type": "code",
   "execution_count": null,
   "id": "221a7981",
   "metadata": {},
   "outputs": [],
   "source": [
    "x = 100\n",
    "def new_func():\n",
    "    x = 10\n",
    "    #print(\"Value of x inside function:\",x) \n",
    "    return x\n",
    "    \n",
    "y = new_func()         # Here you call the function, and assign its OUTPUT to y\n",
    "\n",
    "print(new_func())      # Here you call the defined function as the argument of print(). Then you print any available output.\n",
    "print(y) \n",
    "print(x)"
   ]
  },
  {
   "cell_type": "markdown",
   "id": "e2849339",
   "metadata": {},
   "source": [
    "Let us try to understand the next cell in which `global` variable is declared as one of the expressions of our function:"
   ]
  },
  {
   "cell_type": "code",
   "execution_count": null,
   "id": "02b32279",
   "metadata": {},
   "outputs": [],
   "source": [
    "x = 100\n",
    "def new_func():\n",
    "    global x \n",
    "    x = 10\n",
    "    print(\"Value of x inside function:\",x)\n",
    "    return x + 2\n",
    "    \n",
    "y = new_func()         # Here you call the function, and assign its output to y\n",
    "\n",
    "print(new_func())      # Here you call the defined function as the argument of print(). Then you print any available output.\n",
    "print(y) \n",
    "print(x)"
   ]
  },
  {
   "cell_type": "markdown",
   "id": "c57a3545",
   "metadata": {},
   "source": [
    "You may seen in some scripts that `pass` statment is used inside the function. There is a difference between `pass` and `return`."
   ]
  },
  {
   "cell_type": "code",
   "execution_count": null,
   "id": "c16f923e",
   "metadata": {},
   "outputs": [],
   "source": [
    "def f():\n",
    "    pass\n",
    "\n",
    "\n",
    "def g(x):\n",
    "    if x > 2:\n",
    "        return x\n",
    "\n",
    "def h():\n",
    "    return None\n",
    "\n",
    "\n",
    "print(f())\n",
    "\n",
    "print(g(1))\n",
    "\n",
    "print(g(3))\n",
    "\n",
    "print(h())"
   ]
  },
  {
   "cell_type": "markdown",
   "id": "fe09b69f",
   "metadata": {},
   "source": [
    "When you use `return` the function stops to execute the following statments in the function after `return`. \n",
    "\n",
    "When you use `pass`the function does not stop, it only passes the corresponsing line and executes the statments in the following lines.\n",
    "\n",
    "Consider this function:"
   ]
  },
  {
   "cell_type": "code",
   "execution_count": null,
   "id": "63c3dd4a",
   "metadata": {},
   "outputs": [],
   "source": [
    "def f():\n",
    "    pass\n",
    "    y = 10\n",
    "    print(\"y is equal to\", y)\n",
    "    \n",
    "def h():\n",
    "    return 'stopped'\n",
    "    z = 10\n",
    "    print(\"z is equal to\", z)\n",
    " "
   ]
  },
  {
   "cell_type": "code",
   "execution_count": null,
   "id": "d96c8f75",
   "metadata": {},
   "outputs": [],
   "source": [
    "f()"
   ]
  },
  {
   "cell_type": "code",
   "execution_count": null,
   "id": "4f392b0c",
   "metadata": {},
   "outputs": [],
   "source": [
    "h()"
   ]
  },
  {
   "cell_type": "code",
   "execution_count": null,
   "id": "99d2571a",
   "metadata": {},
   "outputs": [],
   "source": [
    "print(h())"
   ]
  },
  {
   "cell_type": "markdown",
   "id": "c7ea00cc",
   "metadata": {},
   "source": [
    "`pass` practically does nothing at that speicifc line but keeps the code with an empty function running."
   ]
  },
  {
   "cell_type": "markdown",
   "id": "af094dc5",
   "metadata": {},
   "source": [
    "# **Anonymous Function in Python : Lambda Expresssion**\n"
   ]
  },
  {
   "cell_type": "markdown",
   "id": "83f5bafc",
   "metadata": {},
   "source": [
    "We can define some anonymous small in-line functions in Python. We will use this feature later when we start coding the computations based on Artifical Neural Networks. \n",
    "\n",
    "The difiniton of lambda expressions looks like:\n",
    "\n",
    "```Python\n",
    "lambda argument:expression\n",
    "```\n",
    "\n",
    "We should not forget **:**\n",
    "\n",
    "Lambda expressions do not need `return` statement\n",
    "\n",
    "Consider these two different ways for using lambda expression:"
   ]
  },
  {
   "cell_type": "code",
   "execution_count": null,
   "id": "1a6b0ec7",
   "metadata": {},
   "outputs": [],
   "source": [
    "#ONE \n",
    "\n",
    "#Definiton\n",
    "lambda x:x+100\n",
    "\n",
    "#Call\n",
    "(lambda x:x+100)(10)"
   ]
  },
  {
   "cell_type": "markdown",
   "id": "e768b8c7",
   "metadata": {},
   "source": [
    "You can also assign a name to this annonymous small in-line function"
   ]
  },
  {
   "cell_type": "code",
   "execution_count": null,
   "id": "8a7d51c3",
   "metadata": {},
   "outputs": [],
   "source": [
    "#TWO\n",
    "\n",
    "#Definiton\n",
    "summation = lambda x:x+100\n",
    "\n",
    "#Call\n",
    "summation(10)"
   ]
  },
  {
   "cell_type": "markdown",
   "id": "4dd4f9c7",
   "metadata": {},
   "source": [
    "Clearly the second way is easier if you need to use your lambda expression several times in your code.\n",
    "\n",
    "How can you define this function using standard definition that you learned? Define it with the standard defintion using keyword `def`"
   ]
  },
  {
   "cell_type": "code",
   "execution_count": null,
   "id": "b2335237",
   "metadata": {},
   "outputs": [],
   "source": []
  },
  {
   "cell_type": "markdown",
   "id": "97a289a1",
   "metadata": {},
   "source": [
    "We may need to have a lambda expression with more than one arguments. What is your guess on how to separate the arguments? \n",
    "\n",
    "**Example 4:**\n",
    "\n",
    "Try to write a lambda expression which gets x and y and easily add them. <br>\n",
    "Pass two arbitrary numbers as x and y.<br>"
   ]
  },
  {
   "cell_type": "code",
   "execution_count": null,
   "id": "8e52fe76-1940-4ee6-9c46-afb8436761e0",
   "metadata": {},
   "outputs": [],
   "source": []
  },
  {
   "cell_type": "code",
   "execution_count": null,
   "id": "0cde0a2b",
   "metadata": {},
   "outputs": [],
   "source": [
    "# You might have first defined your function and then call it! \n",
    "# Or, define it and call it in one line as following:\n",
    "(lambda x,y:x+y)(1,2)"
   ]
  },
  {
   "cell_type": "markdown",
   "id": "ad057ac9",
   "metadata": {},
   "source": [
    "**Exercise:**\n",
    "\n",
    "Write a function that gets the X- and Y-coordinates of two points named A(X1,Y1) and B(X2,Y2)<br>\n",
    "    Formulate the equation of the line which goes through A and B.<br>\n",
    "    Print the equation by using `print()` function.<br>\n",
    "    Print the equation by using `lambda` expression.<br>\n",
    "    Find the intersection point of the AB line with X-axis, let us call it point C. <br>\n",
    "    Find the angle between the AB line and Y-axis.<br>\n",
    "    Select a desired range to cover a part of X-axis, select an incrementation of +2 for that. \n",
    "    Print the Y-coordinates of all the points of AB line which has X-coordinates in the selecetd range.<br>\n",
    "    Print 'Well done ✅'"
   ]
  },
  {
   "cell_type": "code",
   "execution_count": null,
   "id": "c7f95d87",
   "metadata": {},
   "outputs": [],
   "source": []
  },
  {
   "cell_type": "markdown",
   "id": "4ca39ec8",
   "metadata": {},
   "source": [
    "The link for Python 3.0 Documentation:      https://docs.python.org/3/tutorial/index.html"
   ]
  }
 ],
 "metadata": {
  "kernelspec": {
   "display_name": "Python 3 (ipykernel)",
   "language": "python",
   "name": "python3"
  },
  "language_info": {
   "codemirror_mode": {
    "name": "ipython",
    "version": 3
   },
   "file_extension": ".py",
   "mimetype": "text/x-python",
   "name": "python",
   "nbconvert_exporter": "python",
   "pygments_lexer": "ipython3",
   "version": "3.9.7"
  }
 },
 "nbformat": 4,
 "nbformat_minor": 5
}
